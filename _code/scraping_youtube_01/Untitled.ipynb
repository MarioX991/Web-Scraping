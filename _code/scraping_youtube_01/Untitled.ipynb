{
 "cells": [
  {
   "cell_type": "code",
   "execution_count": 1,
   "metadata": {},
   "outputs": [],
   "source": [
    "import requests\n",
    "from bs4 import BeautifulSoup\n",
    "import pprint\n",
    "\n",
    "url = 'https://www.humblebundle.com/books/programming-productivity-mercury-books'\n",
    "resp = requests.get(url)\n",
    "soup = BeautifulSoup(resp.text, 'html.parser')"
   ]
  },
  {
   "cell_type": "code",
   "execution_count": 2,
   "metadata": {},
   "outputs": [],
   "source": [
    "tiers = soup.select('.dd-game-row')\n",
    "tier_dict ={}\n",
    "\n",
    "for tier in tiers:\n",
    "    #Only for section that have a headline\n",
    "    if tier.select(\".dd-header-headline\"):\n",
    "        #Grab tier name (and price)\n",
    "        tiername = tier.select('.dd-header-headline')[0].text.strip()\n",
    "        # Grab tier product names    \n",
    "        product_name = tier.select(\".dd-image-box-caption\")\n",
    "        product_name = [ prodname.text.strip().split(\"\\n\")[1] for prodname in product_name ]\n",
    "\n",
    "        #Add one product row to ur dictionary\n",
    "        tier_dict[tiername] ={\"products\" : product_name}"
   ]
  },
  {
   "cell_type": "code",
   "execution_count": 3,
   "metadata": {},
   "outputs": [
    {
     "data": {
      "text/plain": [
       "{'Pay €0.84 or more to also unlock!': {'products': ['Python for TensorFlow Pocket Primer',\n",
       "   'Cloud Computing Basics',\n",
       "   'Data Science Tools',\n",
       "   'Flowchart and Algorithm Basics',\n",
       "   'Data Structures and Program Design Using C++',\n",
       "   'Cybersecurity A Self-Teaching Introduction']},\n",
       " 'Pay €6.75 or more to also unlock!': {'products': ['Python Basics',\n",
       "   'Bash Command Line and Shell Scripts Pocket Primer',\n",
       "   'AutoCAD 2021 Beginning and Intermediate',\n",
       "   'TensorFlow 2 Pocket Primer',\n",
       "   'Computer Security and Encryption',\n",
       "   'Photoshop CC Video Tutorials',\n",
       "   'MS Excel 2019 Programming Pocket Primer',\n",
       "   'Computer Concepts and Management Information Systems']},\n",
       " 'Pay €12.66 or more to also unlock!': {'products': ['Artificial Intelligence, Machine Learning, and Deep Learning',\n",
       "   'Programming Fundamentals Using MATLAB',\n",
       "   'Python 3 for Machine Learning',\n",
       "   'Data Structures and Program Design Using Java',\n",
       "   'Basic Electronics: Third edition',\n",
       "   'Data Visualization for Business Decisions Third Edition',\n",
       "   'Network Security and Cryptography',\n",
       "   'Angular and Machine Learning Pocket Primer']}}"
      ]
     },
     "execution_count": 3,
     "metadata": {},
     "output_type": "execute_result"
    }
   ],
   "source": [
    "tier_dict"
   ]
  },
  {
   "cell_type": "code",
   "execution_count": null,
   "metadata": {},
   "outputs": [],
   "source": []
  },
  {
   "cell_type": "code",
   "execution_count": null,
   "metadata": {},
   "outputs": [],
   "source": []
  },
  {
   "cell_type": "code",
   "execution_count": null,
   "metadata": {},
   "outputs": [],
   "source": []
  },
  {
   "cell_type": "code",
   "execution_count": null,
   "metadata": {},
   "outputs": [],
   "source": []
  }
 ],
 "metadata": {
  "kernelspec": {
   "display_name": "Python 3",
   "language": "python",
   "name": "python3"
  },
  "language_info": {
   "codemirror_mode": {
    "name": "ipython",
    "version": 3
   },
   "file_extension": ".py",
   "mimetype": "text/x-python",
   "name": "python",
   "nbconvert_exporter": "python",
   "pygments_lexer": "ipython3",
   "version": "3.7.7"
  }
 },
 "nbformat": 4,
 "nbformat_minor": 4
}
